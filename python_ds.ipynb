{
 "cells": [
  {
   "cell_type": "code",
   "execution_count": 8,
   "metadata": {},
   "outputs": [
    {
     "name": "stdout",
     "output_type": "stream",
     "text": [
      "[1, 2, 4, 6]\n",
      "[1, 2, 4, 6]\n",
      "6\n",
      "4\n",
      "13\n"
     ]
    }
   ],
   "source": [
    "# Lists\n",
    "list = [1,2,3,4,6]\n",
    "list.remove(3)\n",
    "list.sort()\n",
    "\n",
    "print(sorted(list))\n",
    "print(list)\n",
    "print(list[-1])\n",
    "print(len(list))\n",
    "print(sum(list))"
   ]
  },
  {
   "cell_type": "code",
   "execution_count": 2,
   "metadata": {},
   "outputs": [
    {
     "name": "stdout",
     "output_type": "stream",
     "text": [
      "(1, 2, 3, 4, 5)\n",
      "(1, 2, 'hey')\n",
      "(1, 2, 'nooo')\n"
     ]
    },
    {
     "ename": "TypeError",
     "evalue": "'tuple' object does not support item assignment",
     "output_type": "error",
     "traceback": [
      "\u001b[0;31m---------------------------------------------------------------------------\u001b[0m",
      "\u001b[0;31mTypeError\u001b[0m                                 Traceback (most recent call last)",
      "Cell \u001b[0;32mIn[2], line 12\u001b[0m\n\u001b[1;32m      9\u001b[0m \u001b[38;5;28mprint\u001b[39m(tuple3)\n\u001b[1;32m     11\u001b[0m \u001b[38;5;66;03m# Values can't be changed\u001b[39;00m\n\u001b[0;32m---> 12\u001b[0m tuple3[\u001b[38;5;241m0\u001b[39m] \u001b[38;5;241m=\u001b[39m \u001b[38;5;124m\"\u001b[39m\u001b[38;5;124mhi\u001b[39m\u001b[38;5;124m\"\u001b[39m\n",
      "\u001b[0;31mTypeError\u001b[0m: 'tuple' object does not support item assignment"
     ]
    }
   ],
   "source": [
    "# Tuples\n",
    "tuple1 = (1,2,3,4,5)\n",
    "print(tuple1)\n",
    "\n",
    "tuple2 = (1,2,\"hey\",)\n",
    "print(tuple2)\n",
    "\n",
    "tuple3 = 1,2,\"nooo\"\n",
    "print(tuple3)\n",
    "\n",
    "# Values can't be changed\n",
    "tuple3[0] = \"hi\""
   ]
  },
  {
   "cell_type": "code",
   "execution_count": 6,
   "metadata": {},
   "outputs": [
    {
     "name": "stdout",
     "output_type": "stream",
     "text": [
      "{1: 'hey', 2: 'pranay', 3: 'gupta'}\n",
      "{'hi': 'pranay', 6: 'birth'}\n",
      "{1: 'hi', 2: 'bye'}\n",
      "<class 'dict'>\n"
     ]
    }
   ],
   "source": [
    "# Dictionary\n",
    "dict1 = {1:\"hey\", 2:\"pranay\", 3:\"gupta\"}\n",
    "print(dict1)\n",
    "\n",
    "dict2 = {\"hi\":\"pranay\", 6:\"birth\"}\n",
    "print(dict2)\n",
    "\n",
    "dict3 = dict([(1,\"hi\"), (2,\"bye\")])\n",
    "print(dict3)\n",
    "print(type(dict3))"
   ]
  },
  {
   "cell_type": "code",
   "execution_count": 4,
   "metadata": {},
   "outputs": [
    {
     "name": "stdout",
     "output_type": "stream",
     "text": [
      "{0, True, 'hello', 'hi', 'bye'}\n",
      "<class 'set'>\n"
     ]
    }
   ],
   "source": [
    "set1 = {\"hi\",\"bye\",\"hello\",\"hi\",True,0}\n",
    "print(set1)\n",
    "print(type(set1))"
   ]
  }
 ],
 "metadata": {
  "kernelspec": {
   "display_name": "Python 3 (ipykernel)",
   "language": "python",
   "name": "python3"
  },
  "language_info": {
   "codemirror_mode": {
    "name": "ipython",
    "version": 3
   },
   "file_extension": ".py",
   "mimetype": "text/x-python",
   "name": "python",
   "nbconvert_exporter": "python",
   "pygments_lexer": "ipython3",
   "version": "3.12.1"
  }
 },
 "nbformat": 4,
 "nbformat_minor": 4
}
